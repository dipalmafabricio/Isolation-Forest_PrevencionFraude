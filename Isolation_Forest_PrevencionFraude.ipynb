{
 "cells": [
  {
   "cell_type": "code",
   "execution_count": null,
   "metadata": {},
   "outputs": [],
   "source": [
    "### Librerias ###\n",
    "# manejo de datos\n",
    "import pandas as pd\n",
    "import numpy as np\n",
    "\n",
    "# Data Science\n",
    "from sklearn.ensemble import IsolationForest\n",
    "from sklearn.preprocessing import StandardScaler\n",
    "from sklearn.model_selection import train_test_split,RandomizedSearchCV\n",
    "\n",
    "# Estadistica\n",
    "from scipy.stats import uniform\n",
    "\n",
    "# Graficos\n",
    "import matplotlib.pyplot as plt\n",
    "import seaborn as sns\n",
    "\n",
    "import warnings\n",
    "warnings.filterwarnings(\"ignore\")\n"
   ]
  },
  {
   "cell_type": "code",
   "execution_count": null,
   "metadata": {},
   "outputs": [],
   "source": [
    "# Defino indices para identificar las trx\n",
    "df.set_index(['identificador_trx_sospechosa1', 'identificador_trx_sospechosa2'], inplace=True)\n"
   ]
  },
  {
   "cell_type": "code",
   "execution_count": null,
   "metadata": {},
   "outputs": [],
   "source": [
    "# Diviod los datos en train y test\n",
    "X_train, X_test = train_test_split(df, test_size=0.2, random_state=42)"
   ]
  },
  {
   "cell_type": "code",
   "execution_count": null,
   "metadata": {},
   "outputs": [],
   "source": [
    "### ENTRENO MODELO ###\n",
    "\n",
    "# Estandarizacion\n",
    "scaler = StandardScaler()\n",
    "X_train_scaled = scaler.fit_transform(X_train)\n",
    "X_test_scaled = scaler.transform(X_test)\n",
    "\n",
    "# defino el modelo base\n",
    "model = IsolationForest(random_state=10)\n",
    "\n",
    "# Hiperparametros a optimizar\n",
    "param_dist = {\n",
    "    'n_estimators': [100, 200, 300, 400],\n",
    "    'contamination': uniform(0.01, 0.1),  # Proporción esperada de anomalías\n",
    "    'max_samples': ['auto', 0.5, 0.75, 1.0],\n",
    "    'max_features': [0.5, 0.75, 1.0]\n",
    "}\n",
    "\n",
    "# funcion de evaluación personalizada para Isolation Forest\n",
    "def scoring_function(model, X, y=None):\n",
    "    scores = model.decision_function(X)  # Puntajes de anomalía\n",
    "    return np.mean(scores)  # Se busca el modelo con mayor puntaje promedio\n",
    "\n",
    "'''Isolation Forest\n",
    " seleccionará automáticamente los mejores hiperparámetros\n",
    " basándose en la media de los puntajes de anomalía'''\n",
    "\n",
    "# Optimizacion por Randomized Search\n",
    "random_search = RandomizedSearchCV(\n",
    "    model, param_distributions=param_dist, n_iter=20, \n",
    "    scoring=scoring_function, cv=3, random_state=10\n",
    ")\n",
    "\n",
    "random_search.fit(X_train_scaled)  # Entrenar con datos escalados\n",
    "\n",
    "# Muestros los mejores parametros\n",
    "print(\"Mejores hiperparámetros encontrados:\")\n",
    "print(random_search.best_params_)\n",
    "\n",
    "\n",
    "\n",
    "# Predecir anomalias en datos de test\n",
    "X_test[\"anomaly_score\"] = best_model.decision_function(X_test_scaled)\n",
    "X_test[\"fraude\"] = best_model.predict(X_test_scaled)  # -1 = Fraude, 1 = Normal\n",
    "\n",
    "# Muestros las anomalias en los datos de test\n",
    "anomalies = X_test[X_test[\"fraude\"] == -1]\n",
    "print(f\"Total de anomalías detectadas: {len(anomalies)}\")\n",
    "\n"
   ]
  },
  {
   "cell_type": "code",
   "execution_count": null,
   "metadata": {},
   "outputs": [],
   "source": [
    "# Me quedo con el mejor modelo\n",
    "best_model = random_search.best_estimator_\n"
   ]
  },
  {
   "cell_type": "code",
   "execution_count": null,
   "metadata": {},
   "outputs": [],
   "source": [
    "# Predecir anomalias en datos de test\n",
    "X_test[\"anomaly_score\"] = best_model.decision_function(X_test_scaled)\n",
    "X_test[\"fraude\"] = best_model.predict(X_test_scaled)  # -1 = Fraude, 1 = Normal\n",
    "\n",
    "# Muestros las anomalias en los datos de test\n",
    "anomalies = X_test[X_test[\"fraude\"] == -1]\n",
    "print(f\"Total de anomalías detectadas: {len(anomalies)}\")"
   ]
  },
  {
   "cell_type": "code",
   "execution_count": null,
   "metadata": {},
   "outputs": [],
   "source": [
    "# Crear figura\n",
    "plt.figure(figsize=(14, 7))\n",
    "\n",
    "# Graficar transacciones normales\n",
    "sns.scatterplot(\n",
    "    data=X_test[X_test[\"fraude\"] == 1],  # Transacciones normales\n",
    "    x=\"FechaTrx\", y=\"ImporteOperacion\",\n",
    "    label=\"Normal\", color=\"blue\", alpha=0.7, edgecolor='none', s=100\n",
    ")\n",
    "\n",
    "# Graficar anomalías detectadas\n",
    "sns.scatterplot(\n",
    "    data=anomalies,  # Solo anomalías\n",
    "    x=\"FechaTrx\", y=\"ImporteOperacion\",\n",
    "    label=\"Anomalía\", color=\"red\", alpha=0.8, edgecolor=\"black\", s=50\n",
    ")\n",
    "\n",
    "# Configuración del gráfico\n",
    "plt.title(\"Detección de Anomalías por Fecha\", fontsize=16, fontweight=\"bold\")\n",
    "plt.xlabel(\"FechaTrx\")\n",
    "plt.ylabel(\"ImporteOperacion\")\n",
    "\n",
    "# Cambiar formato del eje Y para mejor lectura\n",
    "plt.gca().yaxis.set_major_formatter(plt.FuncFormatter(lambda x, _: f'{x:,.0f}'))\n",
    "\n",
    "plt.legend(title=\"Tipo Trx\", loc=\"upper left\")\n",
    "plt.xticks(rotation=45)  # Rotar las fechas para mejor visibilidad\n",
    "plt.grid(True, linestyle=\"--\", alpha=0.5)\n",
    "\n",
    "plt.show()\n",
    "\n",
    "\n"
   ]
  }
 ],
 "metadata": {
  "kernelspec": {
   "display_name": "Python 3",
   "language": "python",
   "name": "python3"
  },
  "language_info": {
   "codemirror_mode": {
    "name": "ipython",
    "version": 3
   },
   "file_extension": ".py",
   "mimetype": "text/x-python",
   "name": "python",
   "nbconvert_exporter": "python",
   "pygments_lexer": "ipython3",
   "version": "3.10.5"
  }
 },
 "nbformat": 4,
 "nbformat_minor": 2
}
